{
 "cells": [
  {
   "cell_type": "code",
   "execution_count": 1,
   "metadata": {},
   "outputs": [
    {
     "name": "stdout",
     "output_type": "stream",
     "text": [
      "asdf\n"
     ]
    }
   ],
   "source": []
  },
  {
   "cell_type": "code",
   "execution_count": 4,
   "metadata": {},
   "outputs": [
    {
     "name": "stdout",
     "output_type": "stream",
     "text": [
      "[  Section  Session     Type           Time      Days Registered   Instructor  \\\n",
      "0  32400R        1  Lecture  10:00-11:50am  Mon, Wed   34 of 36  Wensheng Wu   \n",
      "\n",
      "  Location         Syllabus  Info  \n",
      "0   THH106  PDF (204465 KB)   NaN  ,   Section  Session     Type         Time      Days Registered    Instructor  \\\n",
      "0  32403R        1  Lecture  4:00-5:50pm  Tue, Thu   27 of 30  James Blythe   \n",
      "\n",
      "  Location         Syllabus  Info  \n",
      "0   KAP158  PDF (117372 KB)   NaN  ,   Section  Session     Type         Time     Days Registered  Instructor  \\\n",
      "0  32405D        1  Lecture  2:00-5:20pm  Tuesday   32 of 32  David Chan   \n",
      "\n",
      "  Location  Syllabus  Info  \n",
      "0   SGM226       NaN   NaN  ,   Section  Session     Type           Time       Days Registered  \\\n",
      "0  32429D       48  Lecture   9:00-10:50am  Wednesday   45 of 46   \n",
      "1  32430R       48      Lab   12:00-1:50pm  Wednesday   45 of 46   \n",
      "2  32431D       48  Lecture  10:00-10:50am   Mon, Wed   44 of 44   \n",
      "3  32433R       48      Lab    9:00-9:50am   Mon, Wed   44 of 44   \n",
      "4  32434D       48  Lecture    4:00-5:50pm  Wednesday   44 of 45   \n",
      "5  32435R       48      Lab    4:00-5:50pm   Thursday   44 of 45   \n",
      "6  32440D       34  Lecture    4:00-5:50pm  Wednesday   22 of 24   \n",
      "7  32441R       34      Lab    4:00-5:50pm   Thursday   22 of 24   \n",
      "\n",
      "         Instructor     Location         Syllabus  Info  \n",
      "0    Anna Farzindar       GFS116  PDF (235417 KB)   NaN  \n",
      "1               NaN       ZHS352              NaN   NaN  \n",
      "2     Ulf Hermjakob       WPH102  PDF (167048 KB)   NaN  \n",
      "3               NaN       WPHB28              NaN   NaN  \n",
      "4  Jose-Luis Ambite       RTH109  PDF (147646 KB)   NaN  \n",
      "5               NaN       RTH109              NaN   NaN  \n",
      "6  Jose-Luis Ambite  DEN@Viterbi  PDF (147646 KB)   NaN  \n",
      "7               NaN  DEN@Viterbi              NaN   NaN  ,   Section  Session     Type         Time    Days Registered    Instructor  \\\n",
      "0  32408D       48  Lecture  2:00-5:20pm  Monday    7 of 25  Tanya Ryutov   \n",
      "1  32424D       34  Lecture  2:00-5:20pm  Monday   13 of 20  Tanya Ryutov   \n",
      "\n",
      "      Location         Syllabus  Info  \n",
      "0      OHE100C  PDF (303542 KB)   NaN  \n",
      "1  DEN@Viterbi  PDF (303542 KB)   NaN  ,   Section  Session     Type          Time    Days Registered       Instructor  \\\n",
      "0  32410D       48  Lecture  12:00-3:20pm  Friday   74 of 76  Clifford Neuman   \n",
      "1  32425D       34  Lecture  12:00-3:20pm  Friday   29 of 40  Clifford Neuman   \n",
      "\n",
      "      Location  Syllabus  Info  \n",
      "0       OHE136       NaN   NaN  \n",
      "1  DEN@Viterbi       NaN   NaN  ,   Section  Session     Type         Time      Days Registered  \\\n",
      "0  32427D       48  Lecture  4:00-5:50pm  Mon, Wed   52 of 53   \n",
      "\n",
      "                        Instructor Location         Syllabus  Info  \n",
      "0  Kristina Lerman,Fred Morstatter    SOSB4  PDF (225289 KB)   NaN  ,   Section  Session     Type         Time    Days Registered Instructor  \\\n",
      "0  32411D       48  Lecture  2:00-5:20pm  Monday   42 of 40  Ning Wang   \n",
      "1  32442D       34  Lecture  2:00-5:20pm  Monday   11 of 20  Ning Wang   \n",
      "\n",
      "      Location  Syllabus  Info  \n",
      "0       RTH109       NaN   NaN  \n",
      "1  DEN@Viterbi       NaN   NaN  ,   Section  Session     Type         Time      Days Registered  \\\n",
      "0  32413D       48  Lecture  3:30-6:50pm  Thursday   55 of 57   \n",
      "1  32444D       48  Lecture  4:00-5:50pm  Mon, Wed   34 of 50   \n",
      "2  32426D       34  Lecture  3:30-6:50pm  Thursday   27 of 35   \n",
      "\n",
      "                    Instructor     Location         Syllabus  Info  \n",
      "0  Goran Muric,Keith Burghardt      OHE100D  PDF (209635 KB)   NaN  \n",
      "1                     Seon Kim       GFS118  PDF (250471 KB)   NaN  \n",
      "2  Goran Muric,Keith Burghardt  DEN@Viterbi  PDF (209635 KB)   NaN  ,   Section  Session     Type         Time      Days Registered   Instructor  \\\n",
      "0  32401D       48  Lecture  4:00-5:50pm  Mon, Wed   59 of 60  Wensheng Wu   \n",
      "1  32402D       48  Lecture  3:30-6:50pm   Tuesday   71 of 71  Wensheng Wu   \n",
      "2  32423D       34  Lecture  4:00-5:50pm  Mon, Wed   34 of 43  Wensheng Wu   \n",
      "\n",
      "      Location         Syllabus  Info  \n",
      "0       OHE132  PDF (217996 KB)   NaN  \n",
      "1       MHP101  PDF (217996 KB)   NaN  \n",
      "2  DEN@Viterbi  PDF (217996 KB)   NaN  ,   Section  Session     Type          Time      Days  Registered  \\\n",
      "0  32414D       48  Lecture   4:00-7:20pm    Monday    43 of 40   \n",
      "1  32415D       48  Lecture  12:00-1:50pm  Tue, Thu    70 of 60   \n",
      "2  32416D       48  Lecture   3:30-5:20pm  Mon, Wed    61 of 50   \n",
      "3  32443D       34  Lecture   4:00-7:20pm    Monday    21 of 30   \n",
      "4  32445D       48  Lecture  12:00-1:50pm  Tue, Thu  157 of 250   \n",
      "\n",
      "                    Instructor     Location         Syllabus  Info  \n",
      "0  Satish Thittamaranahalli Ka      OHE100D              NaN   NaN  \n",
      "1         Mohammad Reza Rajati       WPHB27  PDF (196907 KB)   NaN  \n",
      "2         Mohammad Reza Rajati       SLH102  PDF (196907 KB)   NaN  \n",
      "3  Satish Thittamaranahalli Ka  DEN@Viterbi              NaN   NaN  \n",
      "4         Mohammad Reza Rajati       ONLINE              NaN   NaN  ,   Section  Session     Type          Time     Days  Registered    Instructor  \\\n",
      "0  32418D       48  Lecture  7:00-10:20pm  Tuesday  211 of 250  Wei-Min Shen   \n",
      "\n",
      "  Location          Syllabus  Info  \n",
      "0   THH101  Word (104815 KB)   NaN  ,   Section  Session     Type           Time      Days Registered  \\\n",
      "0  32421R       48  Lecture    3:30-4:50pm  Tue, Thu   90 of 92   \n",
      "1  32428R       48  Lecture  10:00-12:50pm    Friday   82 of 82   \n",
      "\n",
      "       Instructor Location  Syllabus  Info  \n",
      "0  Carl Kesselman   SLH100       NaN   NaN  \n",
      "1    Bruce Wilcox   GFS116       NaN   NaN  ,   Section  Session     Type         Time    Days Registered      Instructor  \\\n",
      "0  32412D       48  Lecture  1:00-4:50pm  Friday   40 of 40  Anna Farzindar   \n",
      "\n",
      "  Location         Syllabus  Info  \n",
      "0   THH212  PDF (307926 KB)   NaN  ,   Section  Session     Type         Time      Days Registered  \\\n",
      "0  31546D       48  Lecture  3:30-4:50pm  Mon, Wed   54 of 58   \n",
      "\n",
      "         Instructor Location  Syllabus  Info  \n",
      "0  Victoria Stodden   CPA100       NaN   NaN  ,   Section  Session     Type          Time      Days Registered Instructor  \\\n",
      "0  29305D       34  Lecture  9:00-10:50am  Tue, Thu    9 of 10  Brent Liu   \n",
      "1  29310D       48  Lecture  9:00-10:50am  Tue, Thu   26 of 30  Brent Liu   \n",
      "\n",
      "      Location  Syllabus  Info  \n",
      "0  DEN@Viterbi       NaN   NaN  \n",
      "1      OHE100C       NaN   NaN  ,   Section  Session    Units     Type Time Days Registered  Instructor  \\\n",
      "0  32432D       48  1.0-6.0  Lecture  TBA  TBA     1 of 1         NaN   \n",
      "\n",
      "  Location  Syllabus  Info  \n",
      "0   OFFICE       NaN   NaN  ]\n"
     ]
    }
   ],
   "source": [
    "import pandas as pd\n",
    "url='https://classes.usc.edu/term-20221/classes/dsci/'\n",
    "html = pd.read_html(url, header = 0)\n",
    "html.to_csv('courses.csv', index=False)\n"
   ]
  },
  {
   "cell_type": "code",
   "execution_count": null,
   "metadata": {},
   "outputs": [],
   "source": []
  }
 ],
 "metadata": {
  "interpreter": {
   "hash": "a64cdb538d028606db1cc59ee26d4c3cbe9ec87ec2508f182256fc299d9acc17"
  },
  "kernelspec": {
   "display_name": "Python 3.9.7 ('pythonProject')",
   "language": "python",
   "name": "python3"
  },
  "language_info": {
   "codemirror_mode": {
    "name": "ipython",
    "version": 3
   },
   "file_extension": ".py",
   "mimetype": "text/x-python",
   "name": "python",
   "nbconvert_exporter": "python",
   "pygments_lexer": "ipython3",
   "version": "3.9.10"
  },
  "orig_nbformat": 4
 },
 "nbformat": 4,
 "nbformat_minor": 2
}
